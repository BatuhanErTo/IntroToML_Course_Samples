{
 "cells": [
  {
   "cell_type": "code",
   "execution_count": 1,
   "id": "0e9f0ad6-fd49-45f6-b3ca-68cee34653d8",
   "metadata": {},
   "outputs": [],
   "source": [
    "myString = \"hello python\""
   ]
  },
  {
   "cell_type": "code",
   "execution_count": 2,
   "id": "9b712c2c-bb6e-4154-890c-2d7091840c62",
   "metadata": {},
   "outputs": [
    {
     "data": {
      "text/plain": [
       "['hello', 'python']"
      ]
     },
     "execution_count": 2,
     "metadata": {},
     "output_type": "execute_result"
    }
   ],
   "source": [
    "myString.split()"
   ]
  },
  {
   "cell_type": "code",
   "execution_count": 3,
   "id": "94896586-1b64-4c49-ac4a-3a188d5f7303",
   "metadata": {},
   "outputs": [],
   "source": [
    "# myString[0] = \"b\" will not work because of immutability"
   ]
  },
  {
   "cell_type": "markdown",
   "id": "8e9c2cd8-5122-4654-b5c3-abd97e998e8e",
   "metadata": {},
   "source": [
    "# list"
   ]
  },
  {
   "cell_type": "code",
   "execution_count": 5,
   "id": "d3cc9607-15ee-4f17-9c38-1a1e1a92e727",
   "metadata": {},
   "outputs": [],
   "source": [
    "myList = [10, 20, 30]"
   ]
  },
  {
   "cell_type": "code",
   "execution_count": 6,
   "id": "435f9f97-6f40-486b-8434-317f5fd08591",
   "metadata": {},
   "outputs": [
    {
     "data": {
      "text/plain": [
       "list"
      ]
     },
     "execution_count": 6,
     "metadata": {},
     "output_type": "execute_result"
    }
   ],
   "source": [
    "type(myList)"
   ]
  },
  {
   "cell_type": "code",
   "execution_count": 7,
   "id": "fd15ea22-cadc-4608-821e-dc11f1b83621",
   "metadata": {},
   "outputs": [
    {
     "data": {
      "text/plain": [
       "10"
      ]
     },
     "execution_count": 7,
     "metadata": {},
     "output_type": "execute_result"
    }
   ],
   "source": [
    "myList[0]"
   ]
  },
  {
   "cell_type": "code",
   "execution_count": 8,
   "id": "3530b0d7-5fdc-47b5-9185-69ccb7376286",
   "metadata": {},
   "outputs": [],
   "source": [
    "myList[0] = 5 # it can executed because lists are mutable"
   ]
  },
  {
   "cell_type": "code",
   "execution_count": 9,
   "id": "365eb6db-83ea-4586-905e-7308a52d7196",
   "metadata": {},
   "outputs": [],
   "source": [
    "myList.append(80)"
   ]
  },
  {
   "cell_type": "code",
   "execution_count": 10,
   "id": "f5a0b401-c609-4b27-b8c5-2cd5dfff548c",
   "metadata": {},
   "outputs": [
    {
     "data": {
      "text/plain": [
       "[5, 20, 30, 80]"
      ]
     },
     "execution_count": 10,
     "metadata": {},
     "output_type": "execute_result"
    }
   ],
   "source": [
    "myList"
   ]
  },
  {
   "cell_type": "code",
   "execution_count": 11,
   "id": "5bfb8eeb-d0f0-4fd4-a6ce-c376110282a0",
   "metadata": {},
   "outputs": [
    {
     "data": {
      "text/plain": [
       "1"
      ]
     },
     "execution_count": 11,
     "metadata": {},
     "output_type": "execute_result"
    }
   ],
   "source": [
    "myList.count(20)"
   ]
  },
  {
   "cell_type": "code",
   "execution_count": 12,
   "id": "e8715f3f-b9c6-4dbd-9acb-a04e36a7e5bf",
   "metadata": {},
   "outputs": [
    {
     "name": "stdout",
     "output_type": "stream",
     "text": [
      "Help on built-in function insert:\n",
      "\n",
      "insert(index, object, /) method of builtins.list instance\n",
      "    Insert object before index.\n",
      "\n"
     ]
    }
   ],
   "source": [
    "help(myList.insert)"
   ]
  },
  {
   "cell_type": "code",
   "execution_count": 13,
   "id": "f8c06bdd-24bb-426e-985c-c59b4d4dc13d",
   "metadata": {},
   "outputs": [],
   "source": [
    "myList.insert(0,23)"
   ]
  },
  {
   "cell_type": "code",
   "execution_count": 14,
   "id": "c4127439-105e-4efc-af41-8ab015e9b7d2",
   "metadata": {},
   "outputs": [
    {
     "data": {
      "text/plain": [
       "[23, 5, 20, 30, 80]"
      ]
     },
     "execution_count": 14,
     "metadata": {},
     "output_type": "execute_result"
    }
   ],
   "source": [
    "myList"
   ]
  },
  {
   "cell_type": "code",
   "execution_count": 15,
   "id": "416546ae-f56b-432c-b8e6-af546d6ec2ad",
   "metadata": {},
   "outputs": [
    {
     "data": {
      "text/plain": [
       "80"
      ]
     },
     "execution_count": 15,
     "metadata": {},
     "output_type": "execute_result"
    }
   ],
   "source": [
    "myList.pop()"
   ]
  },
  {
   "cell_type": "code",
   "execution_count": 16,
   "id": "28a1096b-3c4d-43ea-9019-128befedab1c",
   "metadata": {},
   "outputs": [],
   "source": [
    "myList.remove(23)"
   ]
  },
  {
   "cell_type": "code",
   "execution_count": 17,
   "id": "727495e9-f717-45c9-821f-05501ae3fe47",
   "metadata": {},
   "outputs": [],
   "source": [
    "myList.reverse()"
   ]
  },
  {
   "cell_type": "code",
   "execution_count": 18,
   "id": "428a0e7b-95df-4309-8481-e1dc386b52b4",
   "metadata": {},
   "outputs": [
    {
     "data": {
      "text/plain": [
       "[30, 20, 5]"
      ]
     },
     "execution_count": 18,
     "metadata": {},
     "output_type": "execute_result"
    }
   ],
   "source": [
    "myList"
   ]
  },
  {
   "cell_type": "code",
   "execution_count": 19,
   "id": "b3dbe6f5-e0bb-43eb-a7ac-8121626c7c66",
   "metadata": {},
   "outputs": [],
   "source": [
    "myList.sort()"
   ]
  },
  {
   "cell_type": "code",
   "execution_count": 20,
   "id": "a8f0f08a-4971-4b33-9a98-6c947d4a97a9",
   "metadata": {},
   "outputs": [
    {
     "data": {
      "text/plain": [
       "[5, 20, 30]"
      ]
     },
     "execution_count": 20,
     "metadata": {},
     "output_type": "execute_result"
    }
   ],
   "source": [
    "myList"
   ]
  },
  {
   "cell_type": "code",
   "execution_count": 21,
   "id": "fa893caa-8671-42be-b202-ff6a4bde1d0b",
   "metadata": {},
   "outputs": [
    {
     "name": "stdin",
     "output_type": "stream",
     "text": [
      "enter x 5\n"
     ]
    }
   ],
   "source": [
    "x = input(\"enter x\")"
   ]
  },
  {
   "cell_type": "code",
   "execution_count": 22,
   "id": "d4c4a03e-0636-40e0-a4c5-134b096e243f",
   "metadata": {},
   "outputs": [
    {
     "data": {
      "text/plain": [
       "str"
      ]
     },
     "execution_count": 22,
     "metadata": {},
     "output_type": "execute_result"
    }
   ],
   "source": [
    "type(x)"
   ]
  },
  {
   "cell_type": "code",
   "execution_count": 23,
   "id": "149a96e3-06ce-4d86-890c-3b9995b2e309",
   "metadata": {},
   "outputs": [
    {
     "data": {
      "text/plain": [
       "'50'"
      ]
     },
     "execution_count": 23,
     "metadata": {},
     "output_type": "execute_result"
    }
   ],
   "source": [
    "myInteger = 50\n",
    "str(myInteger)"
   ]
  },
  {
   "cell_type": "code",
   "execution_count": 24,
   "id": "5de3962c-b84d-417c-b4e8-6df4a8965ad7",
   "metadata": {},
   "outputs": [
    {
     "name": "stdout",
     "output_type": "stream",
     "text": [
      "5\n"
     ]
    }
   ],
   "source": [
    "x_integer = int(x)\n",
    "print(x_integer)"
   ]
  },
  {
   "cell_type": "code",
   "execution_count": 25,
   "id": "b8042e45-a8bf-4352-b711-d199569bb9c8",
   "metadata": {},
   "outputs": [
    {
     "data": {
      "text/plain": [
       "int"
      ]
     },
     "execution_count": 25,
     "metadata": {},
     "output_type": "execute_result"
    }
   ],
   "source": [
    "type(x_integer)"
   ]
  },
  {
   "cell_type": "code",
   "execution_count": 26,
   "id": "9570e44e-1f7c-402c-809f-ba9b190253fd",
   "metadata": {},
   "outputs": [
    {
     "data": {
      "text/plain": [
       "5.0"
      ]
     },
     "execution_count": 26,
     "metadata": {},
     "output_type": "execute_result"
    }
   ],
   "source": [
    "float(x)"
   ]
  },
  {
   "cell_type": "code",
   "execution_count": 27,
   "id": "0acbdaca-ce45-445a-9980-165c3be17458",
   "metadata": {},
   "outputs": [
    {
     "data": {
      "text/plain": [
       "'[5, 20, 30]'"
      ]
     },
     "execution_count": 27,
     "metadata": {},
     "output_type": "execute_result"
    }
   ],
   "source": [
    "str(myList)"
   ]
  },
  {
   "cell_type": "code",
   "execution_count": 28,
   "id": "3b57c7ac-020e-4bab-bd2f-077ad4cb2f3c",
   "metadata": {},
   "outputs": [
    {
     "data": {
      "text/plain": [
       "list"
      ]
     },
     "execution_count": 28,
     "metadata": {},
     "output_type": "execute_result"
    }
   ],
   "source": [
    "mixedList = [\"atil\", 1, 2.123]\n",
    "type(mixedList)"
   ]
  },
  {
   "cell_type": "code",
   "execution_count": 29,
   "id": "837dd03e-4cd2-4070-a9fe-5563a4dd9805",
   "metadata": {},
   "outputs": [
    {
     "data": {
      "text/plain": [
       "[1, 2, 3, 4, 5, 6]"
      ]
     },
     "execution_count": 29,
     "metadata": {},
     "output_type": "execute_result"
    }
   ],
   "source": [
    "list1 = [1,2,3]\n",
    "list2 = [4,5,6]\n",
    "list1 + list2"
   ]
  },
  {
   "cell_type": "code",
   "execution_count": 30,
   "id": "c6f15ace-889b-461c-80a0-9c536f310cc3",
   "metadata": {},
   "outputs": [
    {
     "data": {
      "text/plain": [
       "[1, 2, 3, 1, 2, 3, 1, 2, 3, 1, 2, 3]"
      ]
     },
     "execution_count": 30,
     "metadata": {},
     "output_type": "execute_result"
    }
   ],
   "source": [
    "list1 * 4"
   ]
  },
  {
   "cell_type": "code",
   "execution_count": 31,
   "id": "b77952bd-4bf2-44d9-a4ae-cbb80cdf635d",
   "metadata": {},
   "outputs": [],
   "source": [
    "# nestedList"
   ]
  },
  {
   "cell_type": "code",
   "execution_count": 32,
   "id": "3407c15f-8254-4c92-a7de-88b03eebe9d3",
   "metadata": {},
   "outputs": [],
   "source": [
    "myNestedList = [10,20,3.14,\"atil\",[1,2,3]]"
   ]
  },
  {
   "cell_type": "code",
   "execution_count": 33,
   "id": "c4995d9c-2652-4812-bca6-986a132b665e",
   "metadata": {},
   "outputs": [
    {
     "data": {
      "text/plain": [
       "[1, 2, 3]"
      ]
     },
     "execution_count": 33,
     "metadata": {},
     "output_type": "execute_result"
    }
   ],
   "source": [
    "myNestedList[4]"
   ]
  },
  {
   "cell_type": "code",
   "execution_count": 34,
   "id": "f1ca3477-4971-4f4b-8e2c-f9bbc0ecbc21",
   "metadata": {},
   "outputs": [
    {
     "data": {
      "text/plain": [
       "list"
      ]
     },
     "execution_count": 34,
     "metadata": {},
     "output_type": "execute_result"
    }
   ],
   "source": [
    "type(myNestedList[4])"
   ]
  },
  {
   "cell_type": "code",
   "execution_count": 35,
   "id": "0f9b1caa-b506-490c-a5cc-4a0815974959",
   "metadata": {},
   "outputs": [
    {
     "data": {
      "text/plain": [
       "2"
      ]
     },
     "execution_count": 35,
     "metadata": {},
     "output_type": "execute_result"
    }
   ],
   "source": [
    "myNestedList[4][1]"
   ]
  },
  {
   "cell_type": "code",
   "execution_count": 36,
   "id": "e3f8e45b-6ffe-4506-a28b-2c61fbccb9b1",
   "metadata": {},
   "outputs": [
    {
     "data": {
      "text/plain": [
       "[10, 20]"
      ]
     },
     "execution_count": 36,
     "metadata": {},
     "output_type": "execute_result"
    }
   ],
   "source": [
    "myNestedList[:2:]"
   ]
  }
 ],
 "metadata": {
  "kernelspec": {
   "display_name": "Python 3 (ipykernel)",
   "language": "python",
   "name": "python3"
  },
  "language_info": {
   "codemirror_mode": {
    "name": "ipython",
    "version": 3
   },
   "file_extension": ".py",
   "mimetype": "text/x-python",
   "name": "python",
   "nbconvert_exporter": "python",
   "pygments_lexer": "ipython3",
   "version": "3.13.5"
  }
 },
 "nbformat": 4,
 "nbformat_minor": 5
}
