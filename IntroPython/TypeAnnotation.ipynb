{
 "cells": [
  {
   "cell_type": "code",
   "execution_count": 4,
   "id": "7e219fc7-dba4-4c61-b00e-5a68b7fc2058",
   "metadata": {},
   "outputs": [],
   "source": [
    "name : str = \"batu\"\n",
    "name2 : str = 12"
   ]
  },
  {
   "cell_type": "code",
   "execution_count": 5,
   "id": "0cc9be86-0305-4e95-905f-53d2f8db084d",
   "metadata": {},
   "outputs": [
    {
     "data": {
      "text/plain": [
       "int"
      ]
     },
     "execution_count": 5,
     "metadata": {},
     "output_type": "execute_result"
    }
   ],
   "source": [
    "type(name)\n",
    "type(name2)"
   ]
  },
  {
   "cell_type": "code",
   "execution_count": 3,
   "id": "beefba04-4eed-48b4-b941-3d1269811117",
   "metadata": {},
   "outputs": [],
   "source": [
    "is_student : bool = False"
   ]
  },
  {
   "cell_type": "code",
   "execution_count": 6,
   "id": "273736d0-03cb-4f28-a086-ba6e418afa00",
   "metadata": {},
   "outputs": [],
   "source": [
    "def add_numbers(a: int, b: int) -> int:\n",
    "    pass"
   ]
  },
  {
   "cell_type": "code",
   "execution_count": 7,
   "id": "52e5047a-9d09-4588-adc9-33eece74d735",
   "metadata": {},
   "outputs": [],
   "source": [
    "def process_value(value: int | str) -> str:\n",
    "    if isinstance(value, int):\n",
    "        return f\"process integer: {value}\""
   ]
  },
  {
   "cell_type": "code",
   "execution_count": 10,
   "id": "38981156-1e83-4451-a9e3-38ca84889dcb",
   "metadata": {},
   "outputs": [],
   "source": [
    "process_value(50)\n",
    "process_value([1,2,3])"
   ]
  },
  {
   "cell_type": "code",
   "execution_count": 11,
   "id": "6c9422f9-c01c-42ba-939f-3204977e9c3a",
   "metadata": {},
   "outputs": [],
   "source": [
    "#python 3.9\n",
    "from typing import List\n",
    "\n",
    "def sum_list(nums: List[int]) -> int:\n",
    "    return sum(nums)"
   ]
  },
  {
   "cell_type": "code",
   "execution_count": 12,
   "id": "e761cb8e-cfe5-4cdd-9417-989575ae0442",
   "metadata": {},
   "outputs": [],
   "source": [
    "numbers = [1,2,3,4]\n",
    "total = sum_list(numbers)"
   ]
  },
  {
   "cell_type": "code",
   "execution_count": 13,
   "id": "97d8f6fb-be73-47a7-a297-4d11da3fbdb4",
   "metadata": {},
   "outputs": [
    {
     "data": {
      "text/plain": [
       "10"
      ]
     },
     "execution_count": 13,
     "metadata": {},
     "output_type": "execute_result"
    }
   ],
   "source": [
    "total"
   ]
  },
  {
   "cell_type": "code",
   "execution_count": null,
   "id": "76c9d3e5-a461-4470-aebe-4f77f255030b",
   "metadata": {},
   "outputs": [],
   "source": []
  }
 ],
 "metadata": {
  "kernelspec": {
   "display_name": "Python [conda env:base] *",
   "language": "python",
   "name": "conda-base-py"
  },
  "language_info": {
   "codemirror_mode": {
    "name": "ipython",
    "version": 3
   },
   "file_extension": ".py",
   "mimetype": "text/x-python",
   "name": "python",
   "nbconvert_exporter": "python",
   "pygments_lexer": "ipython3",
   "version": "3.13.5"
  }
 },
 "nbformat": 4,
 "nbformat_minor": 5
}
