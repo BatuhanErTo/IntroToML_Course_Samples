{
 "cells": [
  {
   "cell_type": "code",
   "execution_count": 35,
   "id": "704148df-36f1-4c2f-ba3b-675260d86f05",
   "metadata": {},
   "outputs": [],
   "source": [
    "class Person():\n",
    "    job = \"\"\n",
    "    #method, initializer\n",
    "    def __init__(self, name, age, gender):\n",
    "        self.name = name\n",
    "        self.age = age\n",
    "        self.gender = gender\n",
    "    \n",
    "    def test(self):\n",
    "        print(\"test\")"
   ]
  },
  {
   "cell_type": "code",
   "execution_count": 36,
   "id": "49aa4ef1-d04c-4328-97d1-6433129171a0",
   "metadata": {},
   "outputs": [],
   "source": [
    "batu = Person(\"batu\",23,\"Male\")"
   ]
  },
  {
   "cell_type": "code",
   "execution_count": 37,
   "id": "81c857ee-f33d-4c11-b924-60227a729c85",
   "metadata": {},
   "outputs": [
    {
     "data": {
      "text/plain": [
       "__main__.Person"
      ]
     },
     "execution_count": 37,
     "metadata": {},
     "output_type": "execute_result"
    }
   ],
   "source": [
    "type(batu)"
   ]
  },
  {
   "cell_type": "code",
   "execution_count": 38,
   "id": "4769c894-8ed1-4ddb-8be6-8948e03ec058",
   "metadata": {},
   "outputs": [
    {
     "data": {
      "text/plain": [
       "'batu'"
      ]
     },
     "execution_count": 38,
     "metadata": {},
     "output_type": "execute_result"
    }
   ],
   "source": [
    "batu.name"
   ]
  },
  {
   "cell_type": "code",
   "execution_count": 39,
   "id": "fe2fe61a-b219-4342-ba2d-9a84e95c1b3d",
   "metadata": {},
   "outputs": [
    {
     "name": "stdout",
     "output_type": "stream",
     "text": [
      "test\n"
     ]
    }
   ],
   "source": [
    "batu.test()"
   ]
  },
  {
   "cell_type": "code",
   "execution_count": 40,
   "id": "afe2e9e2-d3cd-403f-b854-f8d5579757c2",
   "metadata": {},
   "outputs": [],
   "source": [
    "batu.job = \"developer\""
   ]
  },
  {
   "cell_type": "code",
   "execution_count": 41,
   "id": "1edd43e6-2c0e-4ef6-8ccf-fba7be0715b9",
   "metadata": {},
   "outputs": [
    {
     "data": {
      "text/plain": [
       "'developer'"
      ]
     },
     "execution_count": 41,
     "metadata": {},
     "output_type": "execute_result"
    }
   ],
   "source": [
    "batu.job"
   ]
  },
  {
   "cell_type": "code",
   "execution_count": 61,
   "id": "a69d7a32-2220-48d9-aebb-33c73c5a4f51",
   "metadata": {},
   "outputs": [],
   "source": [
    "class Dog():\n",
    "    year = 7\n",
    "    \n",
    "    def __init__(self, age):\n",
    "        self.age = age\n",
    "        self.dogHumanAge = age * self.year\n",
    "\n",
    "    def humanAge(self):\n",
    "        return self.age * Dog.year #Dog.year = self.year"
   ]
  },
  {
   "cell_type": "code",
   "execution_count": 62,
   "id": "18c1fe67-2756-4a3d-87b4-2f9ca1027fbe",
   "metadata": {},
   "outputs": [],
   "source": [
    "myDog = Dog(3)"
   ]
  },
  {
   "cell_type": "code",
   "execution_count": 63,
   "id": "155790e5-3082-4d37-991b-a55fc251e79a",
   "metadata": {},
   "outputs": [
    {
     "data": {
      "text/plain": [
       "3"
      ]
     },
     "execution_count": 63,
     "metadata": {},
     "output_type": "execute_result"
    }
   ],
   "source": [
    "myDog.age"
   ]
  },
  {
   "cell_type": "code",
   "execution_count": 64,
   "id": "a33ba364-def7-475e-b6b3-0302f6665425",
   "metadata": {},
   "outputs": [
    {
     "data": {
      "text/plain": [
       "21"
      ]
     },
     "execution_count": 64,
     "metadata": {},
     "output_type": "execute_result"
    }
   ],
   "source": [
    "myDog.humanAge()"
   ]
  },
  {
   "cell_type": "code",
   "execution_count": 65,
   "id": "b145ea1e-bef0-4a2a-afd3-8fc7500d1d92",
   "metadata": {},
   "outputs": [
    {
     "data": {
      "text/plain": [
       "21"
      ]
     },
     "execution_count": 65,
     "metadata": {},
     "output_type": "execute_result"
    }
   ],
   "source": [
    "myDog.dogHumanAge"
   ]
  },
  {
   "cell_type": "code",
   "execution_count": null,
   "id": "e3eccd30-fd68-4064-ba61-c84d9b9fee3c",
   "metadata": {},
   "outputs": [],
   "source": []
  }
 ],
 "metadata": {
  "kernelspec": {
   "display_name": "Python [conda env:base] *",
   "language": "python",
   "name": "conda-base-py"
  },
  "language_info": {
   "codemirror_mode": {
    "name": "ipython",
    "version": 3
   },
   "file_extension": ".py",
   "mimetype": "text/x-python",
   "name": "python",
   "nbconvert_exporter": "python",
   "pygments_lexer": "ipython3",
   "version": "3.13.5"
  }
 },
 "nbformat": 4,
 "nbformat_minor": 5
}
