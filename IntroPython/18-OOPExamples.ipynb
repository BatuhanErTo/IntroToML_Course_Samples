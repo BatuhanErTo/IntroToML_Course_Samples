{
 "cells": [
  {
   "cell_type": "markdown",
   "id": "e0a50de4-d145-48d9-9b07-4fc1fe4b5768",
   "metadata": {},
   "source": [
    "# inheritance"
   ]
  },
  {
   "cell_type": "code",
   "execution_count": 15,
   "id": "46ccb37c-7a9b-41be-b31c-5a3359a5d384",
   "metadata": {},
   "outputs": [],
   "source": [
    "class Musician():\n",
    "\n",
    "    def __init__(self, name):\n",
    "        self.name = name\n",
    "        \n",
    "    def test1(self):\n",
    "        print(\"test1\")\n",
    "        \n",
    "    def test2(self):\n",
    "        print(\"test2\")\n",
    "\n",
    "    def test1(self):\n",
    "        print(\"test111\")"
   ]
  },
  {
   "cell_type": "code",
   "execution_count": 16,
   "id": "265856e5-581d-4058-a04c-4753af3994ea",
   "metadata": {},
   "outputs": [],
   "source": [
    "batu = Musician(\"batuhan\")"
   ]
  },
  {
   "cell_type": "code",
   "execution_count": 17,
   "id": "5906d230-7058-47f2-8765-9bc6075812af",
   "metadata": {},
   "outputs": [],
   "source": [
    "class MusicianPlus(Musician):\n",
    "\n",
    "    def __init__(self, name):\n",
    "        Musician.__init__(self, name)\n",
    "        print(\"musician plus\")\n",
    "\n",
    "    def test3(self):\n",
    "        print(\"test3\")"
   ]
  },
  {
   "cell_type": "code",
   "execution_count": 18,
   "id": "919de632-6bea-42a7-b72a-5536ef57929c",
   "metadata": {},
   "outputs": [
    {
     "name": "stdout",
     "output_type": "stream",
     "text": [
      "musician plus\n"
     ]
    }
   ],
   "source": [
    "veysel = MusicianPlus(\"veysel\")"
   ]
  },
  {
   "cell_type": "code",
   "execution_count": 19,
   "id": "164d93c4-2127-41f4-b2ce-c016351dd806",
   "metadata": {},
   "outputs": [
    {
     "name": "stdout",
     "output_type": "stream",
     "text": [
      "test111\n"
     ]
    }
   ],
   "source": [
    "veysel.test1()"
   ]
  },
  {
   "cell_type": "code",
   "execution_count": 20,
   "id": "e82fa58f-f436-4fc8-98d2-b6293f2f03db",
   "metadata": {},
   "outputs": [
    {
     "name": "stdout",
     "output_type": "stream",
     "text": [
      "test3\n"
     ]
    }
   ],
   "source": [
    "veysel.test3()"
   ]
  },
  {
   "cell_type": "markdown",
   "id": "5cadd21e-c732-44b9-9ad9-1f4cb154140a",
   "metadata": {},
   "source": [
    "# polymorphism"
   ]
  },
  {
   "cell_type": "code",
   "execution_count": 21,
   "id": "5ab8cc3b-2675-484f-a9ed-a74c25cb8f2b",
   "metadata": {},
   "outputs": [],
   "source": [
    "class Banana():\n",
    "\n",
    "    def __init__(self, name):\n",
    "        self.name = name\n",
    "\n",
    "    def info(self):\n",
    "        return f\"100 calories {self.name}\";\n",
    "\n",
    "class Apple():\n",
    "\n",
    "    def __init__(self, name):\n",
    "        self.name = name\n",
    "\n",
    "    def info(self):\n",
    "        return f\"150 calories {self.name}\";"
   ]
  },
  {
   "cell_type": "code",
   "execution_count": 22,
   "id": "3590f2ca-2f85-4770-8c03-53a99b4ae38d",
   "metadata": {},
   "outputs": [],
   "source": [
    "banana = Banana(\"banana\")"
   ]
  },
  {
   "cell_type": "code",
   "execution_count": 23,
   "id": "70015439-7a0b-40c8-a0e8-f6ed5989a0ed",
   "metadata": {},
   "outputs": [],
   "source": [
    "apple = Apple(\"Apple\")"
   ]
  },
  {
   "cell_type": "code",
   "execution_count": 24,
   "id": "d546b9d0-7eb7-4db1-93c3-c3ccfb99aa2b",
   "metadata": {},
   "outputs": [
    {
     "data": {
      "text/plain": [
       "'150 calories Apple'"
      ]
     },
     "execution_count": 24,
     "metadata": {},
     "output_type": "execute_result"
    }
   ],
   "source": [
    "apple.info()"
   ]
  },
  {
   "cell_type": "code",
   "execution_count": 25,
   "id": "980803a9-6457-4f8d-b31b-814e0cb156b4",
   "metadata": {},
   "outputs": [],
   "source": [
    "fruitList = [banana, apple]"
   ]
  },
  {
   "cell_type": "code",
   "execution_count": 26,
   "id": "bd70f4a3-989a-4683-9049-705d0412a4fc",
   "metadata": {},
   "outputs": [
    {
     "name": "stdout",
     "output_type": "stream",
     "text": [
      "100 calories banana\n",
      "150 calories Apple\n"
     ]
    }
   ],
   "source": [
    "for fruit in fruitList:\n",
    "    print(fruit.info())"
   ]
  },
  {
   "cell_type": "markdown",
   "id": "586ca6f5-2c78-431e-b46b-8ff3bd62fd93",
   "metadata": {},
   "source": [
    "# encapsulation"
   ]
  },
  {
   "cell_type": "code",
   "execution_count": 38,
   "id": "8149e185-ab03-4dec-a9cd-5c0f64cd0446",
   "metadata": {},
   "outputs": [],
   "source": [
    "class Phone():\n",
    "\n",
    "    def __init__(self, name, price):\n",
    "        self.name = name\n",
    "        self.__price = price\n",
    "\n",
    "    def info(self):\n",
    "        print(f\"{self.name} price is: {self.__price}\")\n",
    "\n",
    "    def changePrice(self, price):\n",
    "        self.__price = price"
   ]
  },
  {
   "cell_type": "code",
   "execution_count": 39,
   "id": "fe4bae52-f890-4e2f-a593-62984b0b7c8f",
   "metadata": {},
   "outputs": [],
   "source": [
    "iphone = Phone(\"iphone 15\", 1000)"
   ]
  },
  {
   "cell_type": "code",
   "execution_count": 40,
   "id": "eb357a47-6485-4851-bab0-fc585b85b722",
   "metadata": {},
   "outputs": [
    {
     "name": "stdout",
     "output_type": "stream",
     "text": [
      "iphone 15 price is: 1000\n"
     ]
    }
   ],
   "source": [
    "iphone.__price = 400\n",
    "iphone.info()"
   ]
  },
  {
   "cell_type": "code",
   "execution_count": 41,
   "id": "d4b6e6d3-fc14-4eea-9813-727b45d7e72e",
   "metadata": {},
   "outputs": [],
   "source": [
    "iphone.changePrice(100)"
   ]
  },
  {
   "cell_type": "code",
   "execution_count": 42,
   "id": "f2bdbd9f-daa7-4470-9632-17e2f0a9a847",
   "metadata": {},
   "outputs": [
    {
     "name": "stdout",
     "output_type": "stream",
     "text": [
      "iphone 15 price is: 100\n"
     ]
    }
   ],
   "source": [
    "iphone.info()"
   ]
  },
  {
   "cell_type": "markdown",
   "id": "99f02d6e-3c4e-4201-ab82-9b9a9aace607",
   "metadata": {},
   "source": [
    "# Abstraction"
   ]
  },
  {
   "cell_type": "code",
   "execution_count": 43,
   "id": "9117089a-36e1-4afd-9fa9-6a8c826197fe",
   "metadata": {},
   "outputs": [],
   "source": [
    "from abc import ABC, abstractmethod"
   ]
  },
  {
   "cell_type": "code",
   "execution_count": 47,
   "id": "80db684f-bbeb-4b6f-9574-5340ecce992d",
   "metadata": {},
   "outputs": [],
   "source": [
    "class Car(ABC):\n",
    "\n",
    "    @abstractmethod\n",
    "    def maxSpeed(self):\n",
    "        pass"
   ]
  },
  {
   "cell_type": "code",
   "execution_count": 48,
   "id": "28331b79-a53f-4cfc-ae92-332d4ca7ddbf",
   "metadata": {},
   "outputs": [],
   "source": [
    "class Tesla(Car):\n",
    "\n",
    "    def maxSpeed(self):\n",
    "        print(\"200km/h\")"
   ]
  },
  {
   "cell_type": "code",
   "execution_count": 49,
   "id": "f3767783-375a-405e-81ce-d25dbe3940e4",
   "metadata": {},
   "outputs": [],
   "source": [
    "tesla = Tesla()"
   ]
  },
  {
   "cell_type": "code",
   "execution_count": 50,
   "id": "cbf791ec-57cf-43b7-bc44-ed73226e7c81",
   "metadata": {},
   "outputs": [
    {
     "name": "stdout",
     "output_type": "stream",
     "text": [
      "200km/h\n"
     ]
    }
   ],
   "source": [
    "tesla.maxSpeed()"
   ]
  },
  {
   "cell_type": "code",
   "execution_count": 51,
   "id": "83e60e23-032f-4ab7-aedc-d4be4f3a69ef",
   "metadata": {},
   "outputs": [],
   "source": [
    "class Mercedes(Car):\n",
    "\n",
    "    def maxSpeed(self):\n",
    "        print(\"200km/h\")"
   ]
  },
  {
   "cell_type": "code",
   "execution_count": 52,
   "id": "e312b66e-7d21-431e-adf2-2f10ddb3a147",
   "metadata": {},
   "outputs": [
    {
     "name": "stdout",
     "output_type": "stream",
     "text": [
      "200km/h\n"
     ]
    }
   ],
   "source": [
    "mercedes = Mercedes()\n",
    "mercedes.maxSpeed()"
   ]
  },
  {
   "cell_type": "code",
   "execution_count": 53,
   "id": "47b0164e-0732-47cf-8690-d9ae35899a23",
   "metadata": {},
   "outputs": [],
   "source": [
    "# special methods"
   ]
  },
  {
   "cell_type": "code",
   "execution_count": 70,
   "id": "a46e80b5-a141-4360-9f7a-46056845a447",
   "metadata": {},
   "outputs": [],
   "source": [
    "class Fruit():\n",
    "\n",
    "    def __init__(self, name, calories):\n",
    "        self.name = name\n",
    "        self.calories = calories\n",
    "\n",
    "    # toString methodu\n",
    "    def __str__(self):\n",
    "        return f\"{self.name}: {self.calories} calories\"\n",
    "\n",
    "    def __len__(self):\n",
    "        return self.calories"
   ]
  },
  {
   "cell_type": "code",
   "execution_count": 71,
   "id": "be796ed4-3a2c-4d51-af5b-074bdd602fd6",
   "metadata": {},
   "outputs": [],
   "source": [
    "myFruit = Fruit(\"banana\",150)"
   ]
  },
  {
   "cell_type": "code",
   "execution_count": 72,
   "id": "c244a239-541d-47f1-bdbc-0cf7b017b4f4",
   "metadata": {},
   "outputs": [
    {
     "data": {
      "text/plain": [
       "150"
      ]
     },
     "execution_count": 72,
     "metadata": {},
     "output_type": "execute_result"
    }
   ],
   "source": [
    "myFruit.calories"
   ]
  },
  {
   "cell_type": "code",
   "execution_count": 73,
   "id": "33a5e5f0-56f9-477c-99fc-85288ae5ac75",
   "metadata": {},
   "outputs": [
    {
     "data": {
      "text/plain": [
       "'banana'"
      ]
     },
     "execution_count": 73,
     "metadata": {},
     "output_type": "execute_result"
    }
   ],
   "source": [
    "myFruit.name"
   ]
  },
  {
   "cell_type": "code",
   "execution_count": 74,
   "id": "539deeec-32dd-4993-b5f7-b1175bba8e90",
   "metadata": {},
   "outputs": [
    {
     "name": "stdout",
     "output_type": "stream",
     "text": [
      "banana: 150 calories\n"
     ]
    }
   ],
   "source": [
    "print(myFruit)"
   ]
  },
  {
   "cell_type": "code",
   "execution_count": 75,
   "id": "6c3ef74b-393d-4f4b-837a-65ca5b3b0b4c",
   "metadata": {},
   "outputs": [
    {
     "data": {
      "text/plain": [
       "150"
      ]
     },
     "execution_count": 75,
     "metadata": {},
     "output_type": "execute_result"
    }
   ],
   "source": [
    "len(myFruit)"
   ]
  },
  {
   "cell_type": "code",
   "execution_count": 81,
   "id": "ad66ba5a-c5b6-44a3-a61c-fdef7a3036e6",
   "metadata": {},
   "outputs": [],
   "source": [
    "class Train():\n",
    "\n",
    "    def __init__(self, name):\n",
    "        self.name = name\n",
    "\n",
    "    def __getitem__(self, key):\n",
    "        if key == \"a\":\n",
    "            return self.name\n",
    "        else:\n",
    "            return \"Not found\""
   ]
  },
  {
   "cell_type": "code",
   "execution_count": 82,
   "id": "f719e8fe-09c5-48bb-bee6-b3e60148f54f",
   "metadata": {},
   "outputs": [],
   "source": [
    "train = Train(\"train\")"
   ]
  },
  {
   "cell_type": "code",
   "execution_count": 83,
   "id": "9f47358e-23fa-4356-8ced-0ada40adc182",
   "metadata": {},
   "outputs": [
    {
     "data": {
      "text/plain": [
       "'train'"
      ]
     },
     "execution_count": 83,
     "metadata": {},
     "output_type": "execute_result"
    }
   ],
   "source": [
    "train[\"a\"]"
   ]
  },
  {
   "cell_type": "code",
   "execution_count": 84,
   "id": "2c03eded-72f2-4569-bb70-f3ffd70354e5",
   "metadata": {},
   "outputs": [
    {
     "data": {
      "text/plain": [
       "'Not found'"
      ]
     },
     "execution_count": 84,
     "metadata": {},
     "output_type": "execute_result"
    }
   ],
   "source": [
    "train[\"hgfd\"]"
   ]
  },
  {
   "cell_type": "code",
   "execution_count": null,
   "id": "21addb1b-9d0d-4dee-aa60-e73a1f968e22",
   "metadata": {},
   "outputs": [],
   "source": []
  }
 ],
 "metadata": {
  "kernelspec": {
   "display_name": "Python [conda env:base] *",
   "language": "python",
   "name": "conda-base-py"
  },
  "language_info": {
   "codemirror_mode": {
    "name": "ipython",
    "version": 3
   },
   "file_extension": ".py",
   "mimetype": "text/x-python",
   "name": "python",
   "nbconvert_exporter": "python",
   "pygments_lexer": "ipython3",
   "version": "3.13.5"
  }
 },
 "nbformat": 4,
 "nbformat_minor": 5
}
