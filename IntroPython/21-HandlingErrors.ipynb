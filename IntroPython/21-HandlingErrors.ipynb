{
 "cells": [
  {
   "cell_type": "code",
   "execution_count": 1,
   "id": "9be6a719-f9b9-41d7-ad32-3b1b4662a2b6",
   "metadata": {},
   "outputs": [],
   "source": [
    "# try - except"
   ]
  },
  {
   "cell_type": "code",
   "execution_count": 2,
   "id": "26a13519-248d-4685-9d1d-41f268a42ae7",
   "metadata": {},
   "outputs": [
    {
     "name": "stdin",
     "output_type": "stream",
     "text": [
      "enter age:  fge\n"
     ]
    },
    {
     "name": "stdout",
     "output_type": "stream",
     "text": [
      "enter your age!\n"
     ]
    }
   ],
   "source": [
    "try:\n",
    "    myAge = int(input(\"enter age: \"))\n",
    "    print(myAge * 2)\n",
    "except:\n",
    "    print(\"enter your age!\")"
   ]
  },
  {
   "cell_type": "code",
   "execution_count": 4,
   "id": "bd45caeb-d677-4472-a1fe-d29f53f2d302",
   "metadata": {},
   "outputs": [
    {
     "name": "stdin",
     "output_type": "stream",
     "text": [
      "enter age:  1\n"
     ]
    },
    {
     "name": "stdout",
     "output_type": "stream",
     "text": [
      "2\n"
     ]
    }
   ],
   "source": [
    "try:\n",
    "    myAge = int(input(\"enter age: \"))\n",
    "    print(myAge * 2)\n",
    "except ValueError:\n",
    "    print(\"enter your age!\")\n",
    "except Error:\n",
    "    print(\"error\")"
   ]
  },
  {
   "cell_type": "code",
   "execution_count": 2,
   "id": "ba93e5f9-48cb-4fc2-b36b-3b99742ee9bd",
   "metadata": {},
   "outputs": [
    {
     "name": "stdin",
     "output_type": "stream",
     "text": [
      "enter age:  32\n"
     ]
    },
    {
     "name": "stdout",
     "output_type": "stream",
     "text": [
      "64\n"
     ]
    }
   ],
   "source": [
    "while True:\n",
    "    try:\n",
    "        myAge = int(input(\"enter age: \"))\n",
    "        print(myAge * 2)\n",
    "        break\n",
    "    except:\n",
    "        print(\"enter your age!\")"
   ]
  },
  {
   "cell_type": "code",
   "execution_count": 3,
   "id": "36583478-27dc-404b-bd36-be0b2ec2d2de",
   "metadata": {},
   "outputs": [
    {
     "name": "stdin",
     "output_type": "stream",
     "text": [
      "enter age:  12\n"
     ]
    },
    {
     "name": "stdout",
     "output_type": "stream",
     "text": [
      "24\n",
      "finally\n"
     ]
    }
   ],
   "source": [
    "while True:\n",
    "    try:\n",
    "        myAge = int(input(\"enter age: \"))\n",
    "        print(myAge * 2)\n",
    "        break\n",
    "    except:\n",
    "        print(\"enter your age!\")\n",
    "    else:\n",
    "        print(\"else executed\")\n",
    "    finally:\n",
    "        print(\"finally\")"
   ]
  },
  {
   "cell_type": "code",
   "execution_count": null,
   "id": "56474b5d-42e3-45ed-97bf-d8b9c1c8652a",
   "metadata": {},
   "outputs": [],
   "source": []
  }
 ],
 "metadata": {
  "kernelspec": {
   "display_name": "Python [conda env:base] *",
   "language": "python",
   "name": "conda-base-py"
  },
  "language_info": {
   "codemirror_mode": {
    "name": "ipython",
    "version": 3
   },
   "file_extension": ".py",
   "mimetype": "text/x-python",
   "name": "python",
   "nbconvert_exporter": "python",
   "pygments_lexer": "ipython3",
   "version": "3.13.5"
  }
 },
 "nbformat": 4,
 "nbformat_minor": 5
}
