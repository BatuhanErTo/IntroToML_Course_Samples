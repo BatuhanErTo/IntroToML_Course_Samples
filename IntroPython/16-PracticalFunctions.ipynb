{
 "cells": [
  {
   "cell_type": "code",
   "execution_count": 2,
   "id": "a9ce4307-872f-4e5a-8437-4783bc91520b",
   "metadata": {},
   "outputs": [],
   "source": [
    "def divideNumber(number):\n",
    "    return number / 2"
   ]
  },
  {
   "cell_type": "code",
   "execution_count": 3,
   "id": "30eb70fd-d952-4b6c-8b5f-7793cfa98b11",
   "metadata": {},
   "outputs": [],
   "source": [
    "myList = [3,5,7,10,20,30]"
   ]
  },
  {
   "cell_type": "code",
   "execution_count": 4,
   "id": "cb32b9ff-dec4-4558-ad70-c98f895c5de3",
   "metadata": {},
   "outputs": [
    {
     "data": {
      "text/plain": [
       "[1.5, 2.5, 3.5, 5.0, 10.0, 15.0]"
      ]
     },
     "execution_count": 4,
     "metadata": {},
     "output_type": "execute_result"
    }
   ],
   "source": [
    "myResultList = []\n",
    "for num in myList:\n",
    "    myResultList.append(divideNumber(num))\n",
    "myResultList"
   ]
  },
  {
   "cell_type": "markdown",
   "id": "e5e183d2-aece-4963-b7b3-c0f5dfd6dc0c",
   "metadata": {},
   "source": [
    "# map"
   ]
  },
  {
   "cell_type": "code",
   "execution_count": 5,
   "id": "cac704b5-9280-4d6e-ba5d-a507fbd02832",
   "metadata": {},
   "outputs": [
    {
     "name": "stdout",
     "output_type": "stream",
     "text": [
      "Help on class map in module builtins:\n",
      "\n",
      "class map(object)\n",
      " |  map(function, iterable, /, *iterables)\n",
      " |\n",
      " |  Make an iterator that computes the function using arguments from\n",
      " |  each of the iterables.  Stops when the shortest iterable is exhausted.\n",
      " |\n",
      " |  Methods defined here:\n",
      " |\n",
      " |  __getattribute__(self, name, /)\n",
      " |      Return getattr(self, name).\n",
      " |\n",
      " |  __iter__(self, /)\n",
      " |      Implement iter(self).\n",
      " |\n",
      " |  __next__(self, /)\n",
      " |      Implement next(self).\n",
      " |\n",
      " |  __reduce__(self, /)\n",
      " |      Return state information for pickling.\n",
      " |\n",
      " |  ----------------------------------------------------------------------\n",
      " |  Static methods defined here:\n",
      " |\n",
      " |  __new__(*args, **kwargs)\n",
      " |      Create and return a new object.  See help(type) for accurate signature.\n",
      "\n"
     ]
    }
   ],
   "source": [
    "help(map)"
   ]
  },
  {
   "cell_type": "code",
   "execution_count": 7,
   "id": "167beafb-0337-4d10-ab84-d49946f66a0b",
   "metadata": {},
   "outputs": [
    {
     "data": {
      "text/plain": [
       "[1.5, 2.5, 3.5, 5.0, 10.0, 15.0]"
      ]
     },
     "execution_count": 7,
     "metadata": {},
     "output_type": "execute_result"
    }
   ],
   "source": [
    "list(map(divideNumber, myList))"
   ]
  },
  {
   "cell_type": "code",
   "execution_count": 8,
   "id": "9902d6c0-eee6-4c93-b403-6b036bb41200",
   "metadata": {},
   "outputs": [],
   "source": [
    "def controlString(string):\n",
    "    return \"Batu\" in string"
   ]
  },
  {
   "cell_type": "code",
   "execution_count": 9,
   "id": "3b81ac86-ac8f-4ff2-8a16-b3e91e3e48e2",
   "metadata": {},
   "outputs": [],
   "source": [
    "myStringList = [\"Batuhan\",\"Batu\",\"Erol\"]"
   ]
  },
  {
   "cell_type": "code",
   "execution_count": 10,
   "id": "5f8f09bf-fc7b-4773-9f1e-685efb2fca8b",
   "metadata": {},
   "outputs": [
    {
     "data": {
      "text/plain": [
       "[True, True, False]"
      ]
     },
     "execution_count": 10,
     "metadata": {},
     "output_type": "execute_result"
    }
   ],
   "source": [
    "list(map(controlString, myStringList))"
   ]
  },
  {
   "cell_type": "markdown",
   "id": "8886fc3c-5d42-4c9b-bd13-d16b55cd6e0f",
   "metadata": {},
   "source": [
    "# filter"
   ]
  },
  {
   "cell_type": "code",
   "execution_count": 11,
   "id": "a262ff7f-f0fd-407a-b8cb-626b638d5baf",
   "metadata": {},
   "outputs": [
    {
     "data": {
      "text/plain": [
       "['Batuhan', 'Batu']"
      ]
     },
     "execution_count": 11,
     "metadata": {},
     "output_type": "execute_result"
    }
   ],
   "source": [
    "list(filter(controlString, myStringList))"
   ]
  },
  {
   "cell_type": "markdown",
   "id": "0338dab3-a3e8-44e5-8d08-9235b984046f",
   "metadata": {},
   "source": [
    "# lambda"
   ]
  },
  {
   "cell_type": "code",
   "execution_count": 12,
   "id": "dca528b4-9646-4924-9298-f6c0ac10bdd5",
   "metadata": {},
   "outputs": [],
   "source": [
    "multiplyLambda = lambda num : num * 3"
   ]
  },
  {
   "cell_type": "code",
   "execution_count": 13,
   "id": "f07a957c-7ff8-40a8-902f-c5346239d1bc",
   "metadata": {},
   "outputs": [
    {
     "data": {
      "text/plain": [
       "function"
      ]
     },
     "execution_count": 13,
     "metadata": {},
     "output_type": "execute_result"
    }
   ],
   "source": [
    "type(multiplyLambda)"
   ]
  },
  {
   "cell_type": "code",
   "execution_count": 14,
   "id": "825677de-0f78-430c-b0bb-9c8e97067c55",
   "metadata": {},
   "outputs": [
    {
     "data": {
      "text/plain": [
       "60"
      ]
     },
     "execution_count": 14,
     "metadata": {},
     "output_type": "execute_result"
    }
   ],
   "source": [
    "multiplyLambda(20)"
   ]
  },
  {
   "cell_type": "code",
   "execution_count": 15,
   "id": "de7330e8-722f-41e4-a5eb-cc6bf91f3fe2",
   "metadata": {},
   "outputs": [],
   "source": [
    "numList = [10,20,30,40,50]"
   ]
  },
  {
   "cell_type": "code",
   "execution_count": 16,
   "id": "a3d0846e-870d-4734-8fe0-f2300504bca1",
   "metadata": {},
   "outputs": [
    {
     "data": {
      "text/plain": [
       "[2.5, 5.0, 7.5, 10.0, 12.5]"
      ]
     },
     "execution_count": 16,
     "metadata": {},
     "output_type": "execute_result"
    }
   ],
   "source": [
    "list(map(lambda num: num / 4, numList))"
   ]
  },
  {
   "cell_type": "code",
   "execution_count": 17,
   "id": "91871e9b-0105-4879-be43-d95e2df13c17",
   "metadata": {},
   "outputs": [],
   "source": [
    "# scope"
   ]
  },
  {
   "cell_type": "code",
   "execution_count": 1,
   "id": "a94725b5-a62c-4081-a5d8-ce6526aecefa",
   "metadata": {},
   "outputs": [],
   "source": [
    "x = 20\n",
    "\n",
    "def multiply(num):\n",
    "    x = 5\n",
    "    return num * x"
   ]
  },
  {
   "cell_type": "code",
   "execution_count": 2,
   "id": "00d74d02-c5cc-46ee-9f6e-4e93ecd14cfb",
   "metadata": {},
   "outputs": [
    {
     "data": {
      "text/plain": [
       "50"
      ]
     },
     "execution_count": 2,
     "metadata": {},
     "output_type": "execute_result"
    }
   ],
   "source": [
    "multiply(10)"
   ]
  },
  {
   "cell_type": "code",
   "execution_count": 3,
   "id": "b00f1a37-57fa-4c8f-bbbc-f9e047cc2667",
   "metadata": {},
   "outputs": [
    {
     "name": "stdout",
     "output_type": "stream",
     "text": [
      "20\n"
     ]
    }
   ],
   "source": [
    "print(x)"
   ]
  },
  {
   "cell_type": "code",
   "execution_count": 4,
   "id": "b3fab95f-0970-45d1-9d42-0c0df1ad61dc",
   "metadata": {},
   "outputs": [],
   "source": [
    "y = 10\n",
    "\n",
    "def changeY():\n",
    "    global y\n",
    "    y = 5\n",
    "    print(y)"
   ]
  },
  {
   "cell_type": "code",
   "execution_count": 5,
   "id": "f3bbf397-f03e-4a3f-a030-23a040f533a9",
   "metadata": {},
   "outputs": [
    {
     "name": "stdout",
     "output_type": "stream",
     "text": [
      "5\n"
     ]
    }
   ],
   "source": [
    "changeY()"
   ]
  },
  {
   "cell_type": "code",
   "execution_count": null,
   "id": "e2a2c0c8-6d94-425b-9d55-79071e50180f",
   "metadata": {},
   "outputs": [],
   "source": []
  }
 ],
 "metadata": {
  "kernelspec": {
   "display_name": "Python [conda env:base] *",
   "language": "python",
   "name": "conda-base-py"
  },
  "language_info": {
   "codemirror_mode": {
    "name": "ipython",
    "version": 3
   },
   "file_extension": ".py",
   "mimetype": "text/x-python",
   "name": "python",
   "nbconvert_exporter": "python",
   "pygments_lexer": "ipython3",
   "version": "3.13.5"
  }
 },
 "nbformat": 4,
 "nbformat_minor": 5
}
