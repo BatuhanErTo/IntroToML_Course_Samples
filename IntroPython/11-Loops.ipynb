{
 "cells": [
  {
   "cell_type": "code",
   "execution_count": 2,
   "id": "09620064-debf-4d97-b0e9-9605be7e142b",
   "metadata": {},
   "outputs": [],
   "source": [
    "myList = [10,20,30,40,50]"
   ]
  },
  {
   "cell_type": "code",
   "execution_count": 3,
   "id": "5016358d-9cfa-4e4b-abee-8e5d7eb42937",
   "metadata": {},
   "outputs": [
    {
     "name": "stdout",
     "output_type": "stream",
     "text": [
      "30\n"
     ]
    }
   ],
   "source": [
    "for num in myList:\n",
    "    if num % 6 == 0:\n",
    "        print(num)"
   ]
  },
  {
   "cell_type": "code",
   "execution_count": 4,
   "id": "f6a4fe6d-dec9-491c-9cb3-16ae24045bde",
   "metadata": {},
   "outputs": [],
   "source": [
    "my_string = \"batuhan erol\""
   ]
  },
  {
   "cell_type": "code",
   "execution_count": 6,
   "id": "efba4755-7508-4d64-aeb2-fa5945d7a070",
   "metadata": {},
   "outputs": [
    {
     "name": "stdout",
     "output_type": "stream",
     "text": [
      "b\n",
      "a\n",
      "t\n",
      "u\n",
      "h\n",
      "a\n",
      "n\n",
      " \n",
      "e\n",
      "r\n",
      "o\n",
      "l\n"
     ]
    }
   ],
   "source": [
    "for letter in my_string:\n",
    "    print(letter)"
   ]
  },
  {
   "cell_type": "code",
   "execution_count": 7,
   "id": "97dceed1-ed8b-48c5-95c4-0467240dd9aa",
   "metadata": {},
   "outputs": [
    {
     "name": "stdout",
     "output_type": "stream",
     "text": [
      "4.0\n",
      "8.0\n",
      "12.0\n",
      "16.0\n",
      "20.0\n",
      "24.0\n",
      "28.0\n"
     ]
    }
   ],
   "source": [
    "my_tuple = (10,20,30,40,50,60,70)\n",
    "for num in my_tuple:\n",
    "    print(num / 5 * 2)"
   ]
  },
  {
   "cell_type": "code",
   "execution_count": 8,
   "id": "f92f7953-3556-4041-b648-11dba700e8e8",
   "metadata": {},
   "outputs": [],
   "source": [
    "my_new_list = [(\"a\",\"b\"),(\"c\",\"d\")]"
   ]
  },
  {
   "cell_type": "code",
   "execution_count": 9,
   "id": "b2f1880e-24ef-49af-81d8-fdf01d2ab48b",
   "metadata": {},
   "outputs": [
    {
     "data": {
      "text/plain": [
       "('a', 'b')"
      ]
     },
     "execution_count": 9,
     "metadata": {},
     "output_type": "execute_result"
    }
   ],
   "source": [
    "my_new_list[0]"
   ]
  },
  {
   "cell_type": "code",
   "execution_count": 10,
   "id": "9280bf77-2f8a-4357-832f-c942bc97df42",
   "metadata": {},
   "outputs": [
    {
     "data": {
      "text/plain": [
       "'a'"
      ]
     },
     "execution_count": 10,
     "metadata": {},
     "output_type": "execute_result"
    }
   ],
   "source": [
    "my_new_list[0][0]"
   ]
  },
  {
   "cell_type": "code",
   "execution_count": 11,
   "id": "8bac02fe-223a-4fcb-9834-dcfcd1badc39",
   "metadata": {},
   "outputs": [
    {
     "name": "stdout",
     "output_type": "stream",
     "text": [
      "b\n",
      "d\n"
     ]
    }
   ],
   "source": [
    "for (x,y) in my_new_list:\n",
    "    print(y)"
   ]
  },
  {
   "cell_type": "code",
   "execution_count": 12,
   "id": "09990626-623e-439f-b830-7c8898053b7d",
   "metadata": {},
   "outputs": [],
   "source": [
    "my_dict = {\"k1\":100,\"k2\":200}"
   ]
  },
  {
   "cell_type": "code",
   "execution_count": 13,
   "id": "37f3a79d-4f73-4244-b48b-29f5924c400a",
   "metadata": {},
   "outputs": [
    {
     "name": "stdout",
     "output_type": "stream",
     "text": [
      "k1\n",
      "k2\n"
     ]
    }
   ],
   "source": [
    "for element in my_dict:\n",
    "    print(element)"
   ]
  },
  {
   "cell_type": "code",
   "execution_count": 14,
   "id": "bde12e85-a82a-45be-81a0-941c2bcc60d4",
   "metadata": {},
   "outputs": [
    {
     "data": {
      "text/plain": [
       "dict_items([('k1', 100), ('k2', 200)])"
      ]
     },
     "execution_count": 14,
     "metadata": {},
     "output_type": "execute_result"
    }
   ],
   "source": [
    "my_dict.items()"
   ]
  },
  {
   "cell_type": "code",
   "execution_count": 15,
   "id": "25faa732-fad9-48a7-8114-751fa53d56c4",
   "metadata": {},
   "outputs": [
    {
     "name": "stdout",
     "output_type": "stream",
     "text": [
      "100\n",
      "200\n"
     ]
    }
   ],
   "source": [
    "for (key,value) in my_dict.items():\n",
    "    print(value)"
   ]
  },
  {
   "cell_type": "code",
   "execution_count": 16,
   "id": "a59b7f53-c65d-4ae8-b514-5e432212e0ba",
   "metadata": {},
   "outputs": [],
   "source": [
    "#continue - break - pass"
   ]
  },
  {
   "cell_type": "code",
   "execution_count": 17,
   "id": "fe3129bd-5a83-47d2-ac99-375639b9f8dc",
   "metadata": {},
   "outputs": [],
   "source": [
    "myList = [10,20,30,40,50,60,70]"
   ]
  },
  {
   "cell_type": "code",
   "execution_count": 19,
   "id": "e14328d5-156a-4a16-abb7-7e901a6e4d02",
   "metadata": {},
   "outputs": [
    {
     "name": "stdout",
     "output_type": "stream",
     "text": [
      "10\n",
      "20\n",
      "30\n",
      "40\n",
      "yes\n"
     ]
    }
   ],
   "source": [
    "for num in myList:\n",
    "    print(num)\n",
    "    if num == 40:\n",
    "        print(\"yes\")\n",
    "        break"
   ]
  },
  {
   "cell_type": "code",
   "execution_count": 22,
   "id": "8d2aa02b-d93f-4540-a4aa-f342a79c3750",
   "metadata": {},
   "outputs": [
    {
     "name": "stdout",
     "output_type": "stream",
     "text": [
      "10\n",
      "20\n",
      "30\n",
      "50\n",
      "60\n",
      "70\n"
     ]
    }
   ],
   "source": [
    "myList = [10,20,30,40,50,60,70]\n",
    "for num in myList:\n",
    "    if num == 40:\n",
    "        continue\n",
    "    print(num)"
   ]
  },
  {
   "cell_type": "code",
   "execution_count": 23,
   "id": "a8538d91-dfc0-45c1-a5e9-d33fc70a88ab",
   "metadata": {},
   "outputs": [],
   "source": [
    "myList = [10,20,30,40,50,60,70]\n",
    "for num in myList:\n",
    "    pass"
   ]
  },
  {
   "cell_type": "code",
   "execution_count": 24,
   "id": "b614d3fb-c9f1-49f2-a88d-5f4d74a6927e",
   "metadata": {},
   "outputs": [],
   "source": [
    "# while"
   ]
  },
  {
   "cell_type": "code",
   "execution_count": 25,
   "id": "ba8e52e4-75c3-4f26-b46a-97bf1ddba98c",
   "metadata": {},
   "outputs": [],
   "source": [
    "x = 0"
   ]
  },
  {
   "cell_type": "code",
   "execution_count": 26,
   "id": "b1de4d1d-3f81-468a-8260-a1d855e2b193",
   "metadata": {},
   "outputs": [
    {
     "name": "stdout",
     "output_type": "stream",
     "text": [
      "0\n",
      "1\n",
      "2\n",
      "3\n",
      "4\n",
      "5\n",
      "6\n",
      "7\n",
      "8\n",
      "9\n"
     ]
    }
   ],
   "source": [
    "while x < 10:\n",
    "    print(x)\n",
    "    x = x + 1"
   ]
  },
  {
   "cell_type": "code",
   "execution_count": 27,
   "id": "ec47f875-9423-43bb-8d54-c3d934aae815",
   "metadata": {},
   "outputs": [],
   "source": [
    "last_list = [10,20,30,40]"
   ]
  },
  {
   "cell_type": "code",
   "execution_count": 28,
   "id": "2479e895-3043-40a7-b351-0345d3b04616",
   "metadata": {},
   "outputs": [
    {
     "name": "stdout",
     "output_type": "stream",
     "text": [
      "a\n"
     ]
    }
   ],
   "source": [
    "while 20 in last_list:\n",
    "    print(\"a\")\n",
    "    last_list.remove(20)"
   ]
  },
  {
   "cell_type": "code",
   "execution_count": 30,
   "id": "0009b3f3-1eeb-455a-a8dc-461c1fded7aa",
   "metadata": {},
   "outputs": [
    {
     "name": "stdout",
     "output_type": "stream",
     "text": [
      "a\n",
      "a\n",
      "a\n"
     ]
    }
   ],
   "source": [
    "last_list = [10,20,30,40]\n",
    "while 20 in last_list:\n",
    "    print(\"a\")\n",
    "    last_list.pop()"
   ]
  },
  {
   "cell_type": "code",
   "execution_count": 31,
   "id": "da8b8e86-7665-42b6-b286-773123af73b7",
   "metadata": {},
   "outputs": [
    {
     "name": "stdout",
     "output_type": "stream",
     "text": [
      "my list: [10]\n"
     ]
    }
   ],
   "source": [
    "print(f\"my list: {last_list}\")"
   ]
  },
  {
   "cell_type": "code",
   "execution_count": null,
   "id": "eb9e88fd-c0d3-4c55-a1d9-a982945fdd10",
   "metadata": {},
   "outputs": [],
   "source": []
  }
 ],
 "metadata": {
  "kernelspec": {
   "display_name": "Python [conda env:base] *",
   "language": "python",
   "name": "conda-base-py"
  },
  "language_info": {
   "codemirror_mode": {
    "name": "ipython",
    "version": 3
   },
   "file_extension": ".py",
   "mimetype": "text/x-python",
   "name": "python",
   "nbconvert_exporter": "python",
   "pygments_lexer": "ipython3",
   "version": "3.13.5"
  }
 },
 "nbformat": 4,
 "nbformat_minor": 5
}
