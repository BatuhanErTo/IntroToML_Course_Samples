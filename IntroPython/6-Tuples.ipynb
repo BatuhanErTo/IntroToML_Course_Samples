{
 "cells": [
  {
   "cell_type": "code",
   "execution_count": 1,
   "id": "7200d175-a098-4982-89c2-0cae4e090996",
   "metadata": {},
   "outputs": [],
   "source": [
    "myList = [10, \"a\", \"b\", 3.14]"
   ]
  },
  {
   "cell_type": "code",
   "execution_count": 2,
   "id": "3d721f3e-4094-461e-9551-681efc6ff6a4",
   "metadata": {},
   "outputs": [
    {
     "data": {
      "text/plain": [
       "10"
      ]
     },
     "execution_count": 2,
     "metadata": {},
     "output_type": "execute_result"
    }
   ],
   "source": [
    "myList[0]"
   ]
  },
  {
   "cell_type": "code",
   "execution_count": 3,
   "id": "66fa8ddc-2791-4e38-8bb7-8fc3b796b2b4",
   "metadata": {},
   "outputs": [
    {
     "data": {
      "text/plain": [
       "[10, 'a', 'b', 3.14]"
      ]
     },
     "execution_count": 3,
     "metadata": {},
     "output_type": "execute_result"
    }
   ],
   "source": [
    "myList"
   ]
  },
  {
   "cell_type": "code",
   "execution_count": 4,
   "id": "4aa924a4-b72d-4584-a9e9-65cc36cd7e0f",
   "metadata": {},
   "outputs": [],
   "source": [
    "# tuples"
   ]
  },
  {
   "cell_type": "code",
   "execution_count": 5,
   "id": "ead91351-cb37-4fdb-9972-bad8fb2eaea4",
   "metadata": {},
   "outputs": [],
   "source": [
    "myTuple = (10, \"a\", \"b\", 3.14)"
   ]
  },
  {
   "cell_type": "code",
   "execution_count": 6,
   "id": "18e347c6-b030-472e-9b0d-33b823005d5d",
   "metadata": {},
   "outputs": [
    {
     "data": {
      "text/plain": [
       "10"
      ]
     },
     "execution_count": 6,
     "metadata": {},
     "output_type": "execute_result"
    }
   ],
   "source": [
    "myTuple[0]"
   ]
  },
  {
   "cell_type": "code",
   "execution_count": 8,
   "id": "8da8eafb-577c-4b5d-8670-995d0cc3bf6c",
   "metadata": {},
   "outputs": [],
   "source": [
    "# myTuple[0] = 100 ===> throws an error because tuple is immutable"
   ]
  },
  {
   "cell_type": "code",
   "execution_count": 9,
   "id": "0ac38e50-4263-420e-b44a-7509f393bf36",
   "metadata": {},
   "outputs": [
    {
     "data": {
      "text/plain": [
       "1"
      ]
     },
     "execution_count": 9,
     "metadata": {},
     "output_type": "execute_result"
    }
   ],
   "source": [
    "myTuple.index(\"a\")"
   ]
  },
  {
   "cell_type": "code",
   "execution_count": 10,
   "id": "d81b26a0-5a0e-4172-ae15-c3434f20e7b4",
   "metadata": {},
   "outputs": [
    {
     "data": {
      "text/plain": [
       "1"
      ]
     },
     "execution_count": 10,
     "metadata": {},
     "output_type": "execute_result"
    }
   ],
   "source": [
    "myTuple.count(\"a\")"
   ]
  },
  {
   "cell_type": "code",
   "execution_count": null,
   "id": "cbc18fc3-91bd-4759-869c-93686a68a071",
   "metadata": {},
   "outputs": [],
   "source": []
  }
 ],
 "metadata": {
  "kernelspec": {
   "display_name": "Python [conda env:base] *",
   "language": "python",
   "name": "conda-base-py"
  },
  "language_info": {
   "codemirror_mode": {
    "name": "ipython",
    "version": 3
   },
   "file_extension": ".py",
   "mimetype": "text/x-python",
   "name": "python",
   "nbconvert_exporter": "python",
   "pygments_lexer": "ipython3",
   "version": "3.13.5"
  }
 },
 "nbformat": 4,
 "nbformat_minor": 5
}
