{
 "cells": [
  {
   "cell_type": "code",
   "execution_count": 1,
   "id": "59e66ae4-a060-44c2-8531-c5ddafae5f80",
   "metadata": {},
   "outputs": [],
   "source": [
    "# method vs function"
   ]
  },
  {
   "cell_type": "code",
   "execution_count": 2,
   "id": "4d932a9c-8580-4463-8243-5dd979d839fe",
   "metadata": {},
   "outputs": [],
   "source": [
    "my_name = \"batuhan\""
   ]
  },
  {
   "cell_type": "code",
   "execution_count": 3,
   "id": "b39b7cd5-c884-49b2-97d8-c2af1f94f1f8",
   "metadata": {},
   "outputs": [],
   "source": [
    "my_name_upper = my_name.upper()"
   ]
  },
  {
   "cell_type": "code",
   "execution_count": 4,
   "id": "ed57f29d-9e84-4e9a-9eb6-49b85d21dcf9",
   "metadata": {},
   "outputs": [
    {
     "data": {
      "text/plain": [
       "'BATUHAN'"
      ]
     },
     "execution_count": 4,
     "metadata": {},
     "output_type": "execute_result"
    }
   ],
   "source": [
    "my_name_upper"
   ]
  },
  {
   "cell_type": "code",
   "execution_count": 5,
   "id": "03b44c16-cb66-4140-a6c0-6a3ed7ebb9ec",
   "metadata": {},
   "outputs": [],
   "source": [
    "# functions"
   ]
  },
  {
   "cell_type": "code",
   "execution_count": 6,
   "id": "df492a42-ae55-4b23-9699-0f8e0fe92608",
   "metadata": {},
   "outputs": [],
   "source": [
    "def hello_python():\n",
    "    print(\"hello python\")"
   ]
  },
  {
   "cell_type": "code",
   "execution_count": 7,
   "id": "4d5ae799-5a2c-4673-b812-16b4839fa8c0",
   "metadata": {},
   "outputs": [
    {
     "name": "stdout",
     "output_type": "stream",
     "text": [
      "hello python\n"
     ]
    }
   ],
   "source": [
    "hello_python()"
   ]
  },
  {
   "cell_type": "code",
   "execution_count": 8,
   "id": "9191189e-5f11-423c-95d3-24d43c3e2b1d",
   "metadata": {},
   "outputs": [],
   "source": [
    "#input"
   ]
  },
  {
   "cell_type": "code",
   "execution_count": 9,
   "id": "087a8470-e5f0-499b-8ecf-46cdf3d9670e",
   "metadata": {},
   "outputs": [],
   "source": [
    "def hello_name(name):\n",
    "    print(f\"hello: {name}\")"
   ]
  },
  {
   "cell_type": "code",
   "execution_count": 10,
   "id": "2fb7f143-8630-4bf9-9dc7-3e29a16ccbd7",
   "metadata": {},
   "outputs": [
    {
     "name": "stdout",
     "output_type": "stream",
     "text": [
      "hello: mehmet\n"
     ]
    }
   ],
   "source": [
    "hello_name(\"mehmet\")"
   ]
  },
  {
   "cell_type": "code",
   "execution_count": 11,
   "id": "8982018f-2200-4b00-95cb-559e73fc9064",
   "metadata": {},
   "outputs": [],
   "source": [
    "# return"
   ]
  },
  {
   "cell_type": "code",
   "execution_count": 14,
   "id": "0b2131dd-0021-4caa-9607-0affb322dff7",
   "metadata": {},
   "outputs": [],
   "source": [
    "def return_summation(num1, num2, num3):\n",
    "    return num1 + num2 + num3"
   ]
  },
  {
   "cell_type": "code",
   "execution_count": 15,
   "id": "b0b43df6-35df-4afd-aec1-519a7df6c6a9",
   "metadata": {},
   "outputs": [
    {
     "data": {
      "text/plain": [
       "801"
      ]
     },
     "execution_count": 15,
     "metadata": {},
     "output_type": "execute_result"
    }
   ],
   "source": [
    "x = return_summation(2,34,765)\n",
    "x"
   ]
  },
  {
   "cell_type": "code",
   "execution_count": 16,
   "id": "733a44ab-5742-4001-97c1-8da3ff6d28df",
   "metadata": {},
   "outputs": [],
   "source": [
    "# args, kwargs (arguments, key word arguments)"
   ]
  },
  {
   "cell_type": "code",
   "execution_count": 17,
   "id": "8605c14a-94e2-4501-9033-13476b9d6011",
   "metadata": {},
   "outputs": [],
   "source": [
    "def args_sum(*args):\n",
    "    return sum(args)"
   ]
  },
  {
   "cell_type": "code",
   "execution_count": 18,
   "id": "6ffe2c53-871d-4623-a82f-63526ded91ef",
   "metadata": {},
   "outputs": [
    {
     "data": {
      "text/plain": [
       "37"
      ]
     },
     "execution_count": 18,
     "metadata": {},
     "output_type": "execute_result"
    }
   ],
   "source": [
    "args_sum(12,12,12,1)"
   ]
  },
  {
   "cell_type": "code",
   "execution_count": 19,
   "id": "7159014e-a2ad-447a-b319-01ceff99ee7e",
   "metadata": {},
   "outputs": [],
   "source": [
    "def kwargs_example(**kwargs):\n",
    "    print(kwargs)"
   ]
  },
  {
   "cell_type": "code",
   "execution_count": 21,
   "id": "ac2626c1-03ed-44d4-9fd9-de61a0a64847",
   "metadata": {},
   "outputs": [
    {
     "name": "stdout",
     "output_type": "stream",
     "text": [
      "{'apple': 100, 'banana': 150, 'melon': 200}\n"
     ]
    }
   ],
   "source": [
    "kwargs_example(apple=100, banana=150, melon=200) #dict yapar"
   ]
  },
  {
   "cell_type": "code",
   "execution_count": 22,
   "id": "8d9eb76d-4ca2-4fcb-9d60-80b8f4f0190b",
   "metadata": {},
   "outputs": [],
   "source": [
    "def kwargs_example_2(**kwargs):\n",
    "    if \"apple\" in kwargs:\n",
    "        print(\"appleee\")\n",
    "    else:\n",
    "        print(\":(\")"
   ]
  },
  {
   "cell_type": "code",
   "execution_count": 26,
   "id": "509881af-76ed-4338-9675-568c3aa4be52",
   "metadata": {},
   "outputs": [
    {
     "name": "stdout",
     "output_type": "stream",
     "text": [
      ":(\n"
     ]
    }
   ],
   "source": [
    "kwargs_example_2(banana=15)"
   ]
  },
  {
   "cell_type": "code",
   "execution_count": null,
   "id": "6a3c8a60-ce6b-4ad6-97d7-caa1bae26e93",
   "metadata": {},
   "outputs": [],
   "source": []
  }
 ],
 "metadata": {
  "kernelspec": {
   "display_name": "Python [conda env:base] *",
   "language": "python",
   "name": "conda-base-py"
  },
  "language_info": {
   "codemirror_mode": {
    "name": "ipython",
    "version": 3
   },
   "file_extension": ".py",
   "mimetype": "text/x-python",
   "name": "python",
   "nbconvert_exporter": "python",
   "pygments_lexer": "ipython3",
   "version": "3.13.5"
  }
 },
 "nbformat": 4,
 "nbformat_minor": 5
}
