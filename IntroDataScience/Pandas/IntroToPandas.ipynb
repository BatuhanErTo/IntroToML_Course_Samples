{
 "cells": [
  {
   "cell_type": "code",
   "execution_count": 1,
   "id": "50141b6f-6c1c-4d45-883e-b143534a3c4e",
   "metadata": {},
   "outputs": [],
   "source": [
    "import numpy as np"
   ]
  },
  {
   "cell_type": "code",
   "execution_count": 2,
   "id": "55e194ad-e372-41d2-90e6-d0c9313ec263",
   "metadata": {},
   "outputs": [],
   "source": [
    "import pandas as pd"
   ]
  },
  {
   "cell_type": "code",
   "execution_count": 3,
   "id": "8f194a89-b36a-4f5a-b4c7-e486702801a1",
   "metadata": {},
   "outputs": [],
   "source": [
    "grades = {\"Batuhan\": 50, \"James\": 60, \"Lars\": 30}"
   ]
  },
  {
   "cell_type": "code",
   "execution_count": 4,
   "id": "e81640b8-9938-47cf-95cc-5733a3cdf43f",
   "metadata": {},
   "outputs": [
    {
     "data": {
      "text/plain": [
       "Batuhan    50\n",
       "James      60\n",
       "Lars       30\n",
       "dtype: int64"
      ]
     },
     "execution_count": 4,
     "metadata": {},
     "output_type": "execute_result"
    }
   ],
   "source": [
    "pd.Series(grades)"
   ]
  },
  {
   "cell_type": "code",
   "execution_count": 5,
   "id": "8c82e858-638d-4f17-a573-22cbedb22350",
   "metadata": {},
   "outputs": [],
   "source": [
    "names = [\"Batuhan\", \"James\", \"Lars\"]\n",
    "grades = [30, 50, 60]"
   ]
  },
  {
   "cell_type": "code",
   "execution_count": 6,
   "id": "35ef91c2-92a5-4659-854f-fd0d0e58827f",
   "metadata": {},
   "outputs": [
    {
     "data": {
      "text/plain": [
       "0    30\n",
       "1    50\n",
       "2    60\n",
       "dtype: int64"
      ]
     },
     "execution_count": 6,
     "metadata": {},
     "output_type": "execute_result"
    }
   ],
   "source": [
    "pd.Series(grades)"
   ]
  },
  {
   "cell_type": "code",
   "execution_count": 7,
   "id": "14c19450-3652-49bd-baf5-0228dfe73728",
   "metadata": {},
   "outputs": [
    {
     "data": {
      "text/plain": [
       "Batuhan    30\n",
       "James      50\n",
       "Lars       60\n",
       "dtype: int64"
      ]
     },
     "execution_count": 7,
     "metadata": {},
     "output_type": "execute_result"
    }
   ],
   "source": [
    "pd.Series(grades, names)"
   ]
  },
  {
   "cell_type": "code",
   "execution_count": 8,
   "id": "a3d0819a-f386-4ace-8054-5785ad931a66",
   "metadata": {},
   "outputs": [
    {
     "data": {
      "text/plain": [
       "Batuhan    30\n",
       "James      50\n",
       "Lars       60\n",
       "dtype: int64"
      ]
     },
     "execution_count": 8,
     "metadata": {},
     "output_type": "execute_result"
    }
   ],
   "source": [
    "pd.Series(data=grades, index=names)"
   ]
  },
  {
   "cell_type": "code",
   "execution_count": 9,
   "id": "77a941e5-eb59-4933-9519-07ae6370bd60",
   "metadata": {},
   "outputs": [],
   "source": [
    "# with numpy"
   ]
  },
  {
   "cell_type": "code",
   "execution_count": 10,
   "id": "60c9948d-b500-4d5a-97a7-15c715df967c",
   "metadata": {},
   "outputs": [],
   "source": [
    "numpy_array = np.array([50,40,30,20])"
   ]
  },
  {
   "cell_type": "code",
   "execution_count": 11,
   "id": "0814a369-3264-4235-8e28-681e8eb1d876",
   "metadata": {},
   "outputs": [
    {
     "data": {
      "text/plain": [
       "0    50\n",
       "1    40\n",
       "2    30\n",
       "3    20\n",
       "dtype: int64"
      ]
     },
     "execution_count": 11,
     "metadata": {},
     "output_type": "execute_result"
    }
   ],
   "source": [
    "pd.Series(numpy_array)"
   ]
  },
  {
   "cell_type": "code",
   "execution_count": 12,
   "id": "9e07b37c-f0da-47b3-835d-47cc9147f3e4",
   "metadata": {},
   "outputs": [],
   "source": [
    "# arithmetic"
   ]
  },
  {
   "cell_type": "code",
   "execution_count": 13,
   "id": "20ea0419-f9ae-4b9a-8270-b851297fd650",
   "metadata": {},
   "outputs": [],
   "source": [
    "contest_result = pd.Series(data=[10,5,100], index=[\"Batu\",\"Ali\",\"Kemal\"])"
   ]
  },
  {
   "cell_type": "code",
   "execution_count": 14,
   "id": "c3d2c7e8-cf90-4233-8c41-f8dbf1a9d845",
   "metadata": {},
   "outputs": [],
   "source": [
    "contest_result2 = pd.Series(data=[20,50,10], index=[\"Batu\",\"Ali\",\"Kemal\"])"
   ]
  },
  {
   "cell_type": "code",
   "execution_count": 15,
   "id": "ee427dfb-4c8e-492e-aec7-5e1681e67d02",
   "metadata": {},
   "outputs": [
    {
     "data": {
      "text/plain": [
       "np.int64(5)"
      ]
     },
     "execution_count": 15,
     "metadata": {},
     "output_type": "execute_result"
    }
   ],
   "source": [
    "contest_result[\"Ali\"]"
   ]
  },
  {
   "cell_type": "code",
   "execution_count": 16,
   "id": "3d7ce3fb-d7df-43b7-9271-3c4ef580d1d8",
   "metadata": {},
   "outputs": [],
   "source": [
    "final_result = contest_result + contest_result2 "
   ]
  },
  {
   "cell_type": "code",
   "execution_count": 17,
   "id": "f7ce3691-d68a-4469-8acd-b1fc625049a3",
   "metadata": {},
   "outputs": [
    {
     "data": {
      "text/plain": [
       "Batu      30\n",
       "Ali       55\n",
       "Kemal    110\n",
       "dtype: int64"
      ]
     },
     "execution_count": 17,
     "metadata": {},
     "output_type": "execute_result"
    }
   ],
   "source": [
    "final_result"
   ]
  },
  {
   "cell_type": "code",
   "execution_count": 18,
   "id": "6fd99a4a-febc-430d-acff-a40c07ca96da",
   "metadata": {},
   "outputs": [
    {
     "data": {
      "text/plain": [
       "Batu      0.5\n",
       "Ali       0.1\n",
       "Kemal    10.0\n",
       "dtype: float64"
      ]
     },
     "execution_count": 18,
     "metadata": {},
     "output_type": "execute_result"
    }
   ],
   "source": [
    "contest_result / contest_result2 "
   ]
  },
  {
   "cell_type": "code",
   "execution_count": 19,
   "id": "1f2c255d-1d1f-4c85-b019-c4566337eb55",
   "metadata": {},
   "outputs": [
    {
     "data": {
      "text/plain": [
       "Batu    -10\n",
       "Ali     -45\n",
       "Kemal    90\n",
       "dtype: int64"
      ]
     },
     "execution_count": 19,
     "metadata": {},
     "output_type": "execute_result"
    }
   ],
   "source": [
    "contest_result - contest_result2 "
   ]
  },
  {
   "cell_type": "code",
   "execution_count": 20,
   "id": "6447a047-8ad6-4714-8019-437d3fbe6fa5",
   "metadata": {},
   "outputs": [
    {
     "data": {
      "text/plain": [
       "Batu      200\n",
       "Ali       250\n",
       "Kemal    1000\n",
       "dtype: int64"
      ]
     },
     "execution_count": 20,
     "metadata": {},
     "output_type": "execute_result"
    }
   ],
   "source": [
    "contest_result * contest_result2 "
   ]
  },
  {
   "cell_type": "code",
   "execution_count": 23,
   "id": "f27423cb-f37e-431c-986f-3a1a43d47ec2",
   "metadata": {},
   "outputs": [],
   "source": [
    "different_series = pd.Series(data=[10,5,100,506], index=[\"a\",\"b\",\"c\",\"d\"])"
   ]
  },
  {
   "cell_type": "code",
   "execution_count": 24,
   "id": "6f8f3c34-a1bf-448f-a2d2-82466e9e1d58",
   "metadata": {},
   "outputs": [],
   "source": [
    "different_series2 = pd.Series(data=[34,5,34,65], index=[\"a\",\"c\",\"f\",\"g\"])"
   ]
  },
  {
   "cell_type": "code",
   "execution_count": 25,
   "id": "df44b07d-0bf4-43bd-877f-50267ec634ed",
   "metadata": {},
   "outputs": [
    {
     "data": {
      "text/plain": [
       "a     44.0\n",
       "b      NaN\n",
       "c    105.0\n",
       "d      NaN\n",
       "f      NaN\n",
       "g      NaN\n",
       "dtype: float64"
      ]
     },
     "execution_count": 25,
     "metadata": {},
     "output_type": "execute_result"
    }
   ],
   "source": [
    "different_series + different_series2"
   ]
  },
  {
   "cell_type": "code",
   "execution_count": null,
   "id": "4a359431-5848-4524-9a88-df787a6f2c38",
   "metadata": {},
   "outputs": [],
   "source": []
  }
 ],
 "metadata": {
  "kernelspec": {
   "display_name": "Python [conda env:base] *",
   "language": "python",
   "name": "conda-base-py"
  },
  "language_info": {
   "codemirror_mode": {
    "name": "ipython",
    "version": 3
   },
   "file_extension": ".py",
   "mimetype": "text/x-python",
   "name": "python",
   "nbconvert_exporter": "python",
   "pygments_lexer": "ipython3",
   "version": "3.13.5"
  }
 },
 "nbformat": 4,
 "nbformat_minor": 5
}
