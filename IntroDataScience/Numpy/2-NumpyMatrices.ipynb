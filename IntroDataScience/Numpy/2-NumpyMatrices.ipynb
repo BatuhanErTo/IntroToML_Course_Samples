{
 "cells": [
  {
   "cell_type": "code",
   "execution_count": 1,
   "id": "d34e06a1-690b-469f-98ab-ecf588697b5f",
   "metadata": {},
   "outputs": [],
   "source": [
    "import numpy as np"
   ]
  },
  {
   "cell_type": "code",
   "execution_count": 5,
   "id": "3f5329e1-4639-4486-9945-11491a06c710",
   "metadata": {},
   "outputs": [],
   "source": [
    "my_matrix = [[5,10],[15,20]]"
   ]
  },
  {
   "cell_type": "code",
   "execution_count": 6,
   "id": "ad7da9ea-a08f-4636-880d-e6ead7374a42",
   "metadata": {},
   "outputs": [
    {
     "data": {
      "text/plain": [
       "10"
      ]
     },
     "execution_count": 6,
     "metadata": {},
     "output_type": "execute_result"
    }
   ],
   "source": [
    "my_matrix[0][1]"
   ]
  },
  {
   "cell_type": "code",
   "execution_count": 4,
   "id": "b1a8ea9e-fed5-47e0-ba13-b61d4a6cde10",
   "metadata": {},
   "outputs": [],
   "source": [
    "# row * column"
   ]
  },
  {
   "cell_type": "code",
   "execution_count": 7,
   "id": "1da504c3-153a-428d-ae17-709c9dde5f7a",
   "metadata": {},
   "outputs": [],
   "source": [
    "numpy_matrix = np.array([[5,10],[15,20]])"
   ]
  },
  {
   "cell_type": "code",
   "execution_count": 8,
   "id": "28fc52d0-6d81-48ce-a98b-8f1cda38f7b7",
   "metadata": {},
   "outputs": [
    {
     "data": {
      "text/plain": [
       "array([[ 5, 10],\n",
       "       [15, 20]])"
      ]
     },
     "execution_count": 8,
     "metadata": {},
     "output_type": "execute_result"
    }
   ],
   "source": [
    "numpy_matrix"
   ]
  },
  {
   "cell_type": "code",
   "execution_count": 9,
   "id": "32c9017e-b160-435c-a1b2-4ff18ee4131a",
   "metadata": {},
   "outputs": [
    {
     "data": {
      "text/plain": [
       "np.int64(15)"
      ]
     },
     "execution_count": 9,
     "metadata": {},
     "output_type": "execute_result"
    }
   ],
   "source": [
    "numpy_matrix[1][0]"
   ]
  },
  {
   "cell_type": "code",
   "execution_count": 10,
   "id": "ec726e1d-2508-47b9-95f2-f89cf0a6c3d0",
   "metadata": {},
   "outputs": [
    {
     "data": {
      "text/plain": [
       "np.int64(50)"
      ]
     },
     "execution_count": 10,
     "metadata": {},
     "output_type": "execute_result"
    }
   ],
   "source": [
    "numpy_matrix.sum()"
   ]
  },
  {
   "cell_type": "code",
   "execution_count": 11,
   "id": "f395fa28-c8df-4c68-9db4-5ddaafb21ebd",
   "metadata": {},
   "outputs": [
    {
     "data": {
      "text/plain": [
       "array([[1., 1.],\n",
       "       [1., 1.],\n",
       "       [1., 1.],\n",
       "       [1., 1.]])"
      ]
     },
     "execution_count": 11,
     "metadata": {},
     "output_type": "execute_result"
    }
   ],
   "source": [
    "np.ones((4,2))"
   ]
  },
  {
   "cell_type": "code",
   "execution_count": 12,
   "id": "ad06adae-785b-4d97-ba08-209a2a26150b",
   "metadata": {},
   "outputs": [
    {
     "data": {
      "text/plain": [
       "array([[0., 0., 0., 0., 0.],\n",
       "       [0., 0., 0., 0., 0.],\n",
       "       [0., 0., 0., 0., 0.]])"
      ]
     },
     "execution_count": 12,
     "metadata": {},
     "output_type": "execute_result"
    }
   ],
   "source": [
    "np.zeros((3,5))"
   ]
  },
  {
   "cell_type": "code",
   "execution_count": 13,
   "id": "eb09fa11-9de6-4b7a-80b1-356c7c67a2bd",
   "metadata": {},
   "outputs": [
    {
     "data": {
      "text/plain": [
       "array([[0.35932938, 0.01156716],\n",
       "       [0.27112072, 0.76134927],\n",
       "       [0.45922603, 0.37227505]])"
      ]
     },
     "execution_count": 13,
     "metadata": {},
     "output_type": "execute_result"
    }
   ],
   "source": [
    "np.random.random((3,2))"
   ]
  },
  {
   "cell_type": "code",
   "execution_count": 14,
   "id": "525f3e46-43f0-4df3-abba-fd5e3f6e957c",
   "metadata": {},
   "outputs": [],
   "source": [
    "# matrix arithmetic"
   ]
  },
  {
   "cell_type": "code",
   "execution_count": 15,
   "id": "eefa0468-06ab-4d38-9a7b-c80d75fccbb9",
   "metadata": {},
   "outputs": [],
   "source": [
    "first_array = np.array([[10,20],[30,40]])"
   ]
  },
  {
   "cell_type": "code",
   "execution_count": 16,
   "id": "e644a7be-db88-4f8f-8176-6eca9d8cb816",
   "metadata": {},
   "outputs": [],
   "source": [
    "second_array = np.array([[5,15],[25,35]])"
   ]
  },
  {
   "cell_type": "code",
   "execution_count": 17,
   "id": "13e70b4a-15af-4a46-8c0f-e8947b4c2292",
   "metadata": {},
   "outputs": [
    {
     "data": {
      "text/plain": [
       "array([[15, 35],\n",
       "       [55, 75]])"
      ]
     },
     "execution_count": 17,
     "metadata": {},
     "output_type": "execute_result"
    }
   ],
   "source": [
    "first_array + second_array"
   ]
  },
  {
   "cell_type": "code",
   "execution_count": 18,
   "id": "bc7de81e-2bfa-454c-8119-aad5c132642d",
   "metadata": {},
   "outputs": [
    {
     "data": {
      "text/plain": [
       "array([[10, 20],\n",
       "       [30, 40]])"
      ]
     },
     "execution_count": 18,
     "metadata": {},
     "output_type": "execute_result"
    }
   ],
   "source": [
    "first_array"
   ]
  },
  {
   "cell_type": "code",
   "execution_count": 28,
   "id": "2240d9d5-7a93-46ed-b04b-5aa3db8e85d0",
   "metadata": {},
   "outputs": [
    {
     "data": {
      "text/plain": [
       "(2,)"
      ]
     },
     "execution_count": 28,
     "metadata": {},
     "output_type": "execute_result"
    }
   ],
   "source": [
    "third_array  = np.array([50,60])\n",
    "third_array.shape"
   ]
  },
  {
   "cell_type": "code",
   "execution_count": 25,
   "id": "bfda1485-c096-4391-8c74-805e1b385ac4",
   "metadata": {},
   "outputs": [
    {
     "data": {
      "text/plain": [
       "array([[ 60,  80],\n",
       "       [ 80, 100]])"
      ]
     },
     "execution_count": 25,
     "metadata": {},
     "output_type": "execute_result"
    }
   ],
   "source": [
    "first_array + third_array # broadcasting"
   ]
  },
  {
   "cell_type": "code",
   "execution_count": 36,
   "id": "46fc0f7e-0f39-4925-9163-455b443954a0",
   "metadata": {},
   "outputs": [
    {
     "data": {
      "text/plain": [
       "(1, 5)"
      ]
     },
     "execution_count": 36,
     "metadata": {},
     "output_type": "execute_result"
    }
   ],
   "source": [
    "fourth_array = np.array([[10,20,30,40,50]])\n",
    "fourth_array.shape"
   ]
  },
  {
   "cell_type": "code",
   "execution_count": 37,
   "id": "01445183-9767-4b68-a83d-c7293d732ac6",
   "metadata": {},
   "outputs": [],
   "source": [
    "## first_array + fourth_array ## not working, cannot make broadcasting"
   ]
  },
  {
   "cell_type": "code",
   "execution_count": 38,
   "id": "6073cddf-3723-4e90-ab73-de4a95e97b5a",
   "metadata": {},
   "outputs": [],
   "source": [
    " # matrix multiplication"
   ]
  },
  {
   "cell_type": "code",
   "execution_count": 39,
   "id": "999ed5f9-79c2-4eae-83dc-ae0632209f05",
   "metadata": {},
   "outputs": [
    {
     "data": {
      "text/plain": [
       "array([[  50,  300],\n",
       "       [ 750, 1400]])"
      ]
     },
     "execution_count": 39,
     "metadata": {},
     "output_type": "execute_result"
    }
   ],
   "source": [
    "first_array * second_array"
   ]
  },
  {
   "cell_type": "code",
   "execution_count": 40,
   "id": "44e648a1-7a22-4cd7-aa12-4bdab4c57222",
   "metadata": {},
   "outputs": [],
   "source": [
    "# dot product"
   ]
  },
  {
   "cell_type": "code",
   "execution_count": 41,
   "id": "5cd33a38-693a-4d95-9792-93052506abc9",
   "metadata": {},
   "outputs": [],
   "source": [
    "first_matrix = np.array([[10,20,30]])"
   ]
  },
  {
   "cell_type": "code",
   "execution_count": 42,
   "id": "afa62ed3-941e-4ab0-b574-b6f394e8611e",
   "metadata": {},
   "outputs": [
    {
     "data": {
      "text/plain": [
       "(1, 3)"
      ]
     },
     "execution_count": 42,
     "metadata": {},
     "output_type": "execute_result"
    }
   ],
   "source": [
    "first_matrix.shape"
   ]
  },
  {
   "cell_type": "code",
   "execution_count": 46,
   "id": "8667631a-694e-4f63-8bf3-bbb68fa543f2",
   "metadata": {},
   "outputs": [
    {
     "data": {
      "text/plain": [
       "array([[10, 20, 30]])"
      ]
     },
     "execution_count": 46,
     "metadata": {},
     "output_type": "execute_result"
    }
   ],
   "source": [
    "first_matrix"
   ]
  },
  {
   "cell_type": "code",
   "execution_count": 43,
   "id": "bf452722-f8d6-4c9e-9356-d39a2ae1662e",
   "metadata": {},
   "outputs": [],
   "source": [
    "second_matrix = np.array([[2,3],[2,3],[2,3]])"
   ]
  },
  {
   "cell_type": "code",
   "execution_count": 44,
   "id": "de55858a-b8e4-415c-ae33-e23e962132ce",
   "metadata": {},
   "outputs": [
    {
     "data": {
      "text/plain": [
       "(3, 2)"
      ]
     },
     "execution_count": 44,
     "metadata": {},
     "output_type": "execute_result"
    }
   ],
   "source": [
    "second_matrix.shape"
   ]
  },
  {
   "cell_type": "code",
   "execution_count": 47,
   "id": "54c848a3-e833-4789-b312-77eddd0b6a74",
   "metadata": {},
   "outputs": [
    {
     "data": {
      "text/plain": [
       "array([[2, 3],\n",
       "       [2, 3],\n",
       "       [2, 3]])"
      ]
     },
     "execution_count": 47,
     "metadata": {},
     "output_type": "execute_result"
    }
   ],
   "source": [
    "second_matrix"
   ]
  },
  {
   "cell_type": "code",
   "execution_count": 45,
   "id": "08cb1a27-4851-4a12-984b-2b067b5830f5",
   "metadata": {},
   "outputs": [],
   "source": [
    "# first_matrix * second_matrix wouldn't work"
   ]
  },
  {
   "cell_type": "code",
   "execution_count": null,
   "id": "f436d3a8-ae7c-4f91-b7c1-58077559c5fb",
   "metadata": {},
   "outputs": [],
   "source": [
    "result_matrix = first_matrix.dot(second_matrix)"
   ]
  }
 ],
 "metadata": {
  "kernelspec": {
   "display_name": "Python [conda env:base] *",
   "language": "python",
   "name": "conda-base-py"
  },
  "language_info": {
   "codemirror_mode": {
    "name": "ipython",
    "version": 3
   },
   "file_extension": ".py",
   "mimetype": "text/x-python",
   "name": "python",
   "nbconvert_exporter": "python",
   "pygments_lexer": "ipython3",
   "version": "3.13.5"
  }
 },
 "nbformat": 4,
 "nbformat_minor": 5
}
