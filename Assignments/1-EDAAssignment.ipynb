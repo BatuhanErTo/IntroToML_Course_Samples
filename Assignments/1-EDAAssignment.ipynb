{
 "cells": [
  {
   "cell_type": "markdown",
   "id": "2e9bbdde-11f3-4497-8a94-37459714a529",
   "metadata": {},
   "source": [
    "## Exploraty Data Analysis (Keşifsel Veri Analizi)\n",
    "- Modelleme veya hipotez testine geçmeden önce yapılan ilk adımdır.\n",
    "- Amacı, veriyi tanımak, anlamak, temizleme ihtiyacını belirlemek ve olası ilişkileri keşfetmektir.\n",
    "### Temel Amaçları\n",
    "- Veriyi Anlamak:\n",
    "    - Hangi değişkenler (features) var?\n",
    "    - Hangi türdeler (sayısal, kategorik, tarih vb.)?\n",
    "    - Eksik veya aykırı değer var mı?\n",
    "- İlişkileri keşfetmek:\n",
    "    - Değişkenler birbirleriyle nasıl ilişkililer?\n",
    "    - Hangi değişkenler hedef değişkeni (target) etkileyebilir?\n",
    "- Veriyi görselleştirmek:\n",
    "    - Grafiklerle veri dağılımını, korelasyonları ve örüntüleri görmek.\n",
    "- Veri kalitesini değerlendirmek:\n",
    "    - Eksik değer oranları\n",
    "    - Aykırı değerlerin varlığı\n",
    "    - Tutarsız veri biçimleri (örneğin metin–sayı karışıklığı)"
   ]
  },
  {
   "cell_type": "code",
   "execution_count": 1,
   "id": "f9375648-d35b-4519-94ec-4a8934efa538",
   "metadata": {},
   "outputs": [],
   "source": [
    "import numpy as np\n",
    "import pandas as pd\n",
    "import matplotlib.pyplot as plt\n",
    "import seaborn as sns"
   ]
  },
  {
   "cell_type": "code",
   "execution_count": null,
   "id": "a22cc953-97a0-4e04-8b3b-a35f2b85ff89",
   "metadata": {},
   "outputs": [],
   "source": [
    "# first step => data collection\n",
    "data = pd.read_csv(\"13-Wine\")"
   ]
  }
 ],
 "metadata": {
  "kernelspec": {
   "display_name": "Python [conda env:base] *",
   "language": "python",
   "name": "conda-base-py"
  },
  "language_info": {
   "codemirror_mode": {
    "name": "ipython",
    "version": 3
   },
   "file_extension": ".py",
   "mimetype": "text/x-python",
   "name": "python",
   "nbconvert_exporter": "python",
   "pygments_lexer": "ipython3",
   "version": "3.13.5"
  }
 },
 "nbformat": 4,
 "nbformat_minor": 5
}
